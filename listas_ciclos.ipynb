{
 "cells": [
  {
   "cell_type": "markdown",
   "metadata": {},
   "source": [
    "en otros lenguajes es el equivalente a arreglos o vectores. comienza a contar desde cero a=[2, 6, 7, 9, 5, 9]"
   ]
  },
  {
   "cell_type": "markdown",
   "metadata": {},
   "source": [
    "a = [2, 6, 7, 9, 5, 9, 7, 8, 2, 1, 9]"
   ]
  },
  {
   "cell_type": "markdown",
   "metadata": {},
   "source": [
    "para extraer de cero a 3 a=[0:3] "
   ]
  },
  {
   "cell_type": "code",
   "execution_count": null,
   "metadata": {},
   "outputs": [],
   "source": [
    "a2 = a[0:3] \n",
    "print (a2)\n",
    "print (a2[2])"
   ]
  },
  {
   "cell_type": "markdown",
   "metadata": {},
   "source": [
    "el salto va en la tercera posición. \n",
    "Nota: me falta encontrar para hacer los vectores "
   ]
  },
  {
   "cell_type": "code",
   "execution_count": 1,
   "metadata": {},
   "outputs": [
    {
     "name": "stdout",
     "output_type": "stream",
     "text": [
      "[0, 2, 4, 6, 8, 10, 12, 14, 16, 18, 20]\n"
     ]
    }
   ],
   "source": [
    "#a3 = a[0:6:2]\n",
    "#print (a3)\n",
    "# lo encontre mucho después en manejo de listas\n",
    "l6=[num for num in range(0, 21, 2)]\n",
    "print (l6)"
   ]
  },
  {
   "cell_type": "markdown",
   "metadata": {},
   "source": [
    "# Diccionarios \n",
    "cambiando los valores del diccionario "
   ]
  },
  {
   "cell_type": "code",
   "execution_count": 14,
   "metadata": {},
   "outputs": [
    {
     "name": "stdout",
     "output_type": "stream",
     "text": [
      "{'clave 1': [1, 2, 3, 4], 'clave 2': 78, 'clave 3': 'hola'}\n",
      "[1, 2, 3, 4]\n",
      "78\n"
     ]
    }
   ],
   "source": [
    "d = { \"clave 1\":[1,2,3,4],\n",
    "    \"clave 2\": 78,\n",
    "    \"clave 3\": 'hola'\n",
    "}\n",
    "print(d)\n",
    "print (d[\"clave 1\"])\n",
    "print (d[\"clave 2\"])"
   ]
  },
  {
   "cell_type": "markdown",
   "metadata": {},
   "source": [
    "# Sentencias condicionales "
   ]
  },
  {
   "cell_type": "code",
   "execution_count": 57,
   "metadata": {},
   "outputs": [
    {
     "name": "stdout",
     "output_type": "stream",
     "text": [
      "c es menor\n",
      "¡Yo tampoco!\n"
     ]
    }
   ],
   "source": [
    "c=2\n",
    "f= 6\n",
    "if c > f : \n",
    "    print (c)\n",
    "else : \n",
    "    print ('c es menor')\n",
    "\n",
    "z = \n",
    "\n",
    "if z > 8:\n",
    "  print(\"¡No voy a imprimir!\") #esta sentencia no se ejecuta\n",
    "elif z > 5:\n",
    "  print(\"¡Yo lo haré!\") #esta sentencia se ejecuta\n",
    "else:\n",
    "  print(\"¡Yo tampoco!\") #esta sentencia no se ejecuta"
   ]
  },
  {
   "cell_type": "markdown",
   "metadata": {},
   "source": [
    "# Bucles "
   ]
  },
  {
   "cell_type": "code",
   "execution_count": 82,
   "metadata": {},
   "outputs": [
    {
     "name": "stdout",
     "output_type": "stream",
     "text": [
      "[10]\n",
      "[20]\n",
      "[30]\n",
      "[40]\n",
      "[50]\n",
      "[60]\n",
      "[70]\n",
      "[80]\n",
      "[90]\n",
      "[100]\n"
     ]
    }
   ],
   "source": [
    "for g in range (10,110,10):\n",
    "    g=[g]\n",
    "    print (g)\n"
   ]
  },
  {
   "cell_type": "markdown",
   "metadata": {},
   "source": [
    "# Funciones"
   ]
  },
  {
   "cell_type": "code",
   "execution_count": 2,
   "metadata": {},
   "outputs": [
    {
     "name": "stdout",
     "output_type": "stream",
     "text": [
      "6\n"
     ]
    }
   ],
   "source": [
    "def fun(n1,n2,n3):\n",
    "    return n1 + n2 + n3\n",
    "r=fun(1,2,3)\n",
    "print (r)\n"
   ]
  },
  {
   "cell_type": "markdown",
   "metadata": {},
   "source": [
    "# Programación orientada Objetos \n",
    "Objeto = humano\n",
    "atributos = color de ojos, nacionalidad, estatura, edad\n",
    "metodos (acciones) = correr, nadar, dormir \n",
    "clase = plantilla o molde que tiene nuestro objeto \n",
    "\n",
    "nombres de clase al inicio con Mayúscula\n",
    "Una funcion dentro de mi clase ya se le llama método  \n",
    "\n",
    "# Encapsulación\n",
    "si empiezo el atributo con __ dos guines bajos es privado. En caso que NO inicie con __ es un atributo o metodo publico. Cuando termina también con __ estamos declarando un método especial de python que llamará en cierto momento o bajo ciertas circunstancias. "
   ]
  },
  {
   "cell_type": "code",
   "execution_count": 109,
   "metadata": {},
   "outputs": [
    {
     "name": "stdout",
     "output_type": "stream",
     "text": [
      "soy nuevo objeto\n",
      "soy nuevo objeto\n",
      "hola soy pedro\n",
      "hola soy raul\n"
     ]
    }
   ],
   "source": [
    "class Humano: \n",
    "    def __init__(self):\n",
    "        print ('soy nuevo objeto')\n",
    "    def hablar (self, mensaje):\n",
    "        print(mensaje)\n",
    "pedro = Humano() #instanciamos el objeto, aquí instancio dentro del parentesis la edad para cada objeto la edad, por ejemplo\n",
    "raul = Humano ()#instanciamos el objeto\n",
    "\n",
    "pedro.hablar('hola soy pedro')\n",
    "raul.hablar('hola soy raul')"
   ]
  },
  {
   "cell_type": "markdown",
   "metadata": {},
   "source": [
    "Creación de un nuevo atributo a mi objeto.  La edad "
   ]
  },
  {
   "cell_type": "code",
   "execution_count": 20,
   "metadata": {},
   "outputs": [
    {
     "name": "stdout",
     "output_type": "stream",
     "text": [
      "soy nuevo objeto\n",
      "soy nuevo objeto\n",
      "hola soy pedro y tengo\n",
      "27 años\n",
      "hola soy raul y tengo\n",
      "32 años\n"
     ]
    },
    {
     "data": {
      "text/plain": [
       "(None, None)"
      ]
     },
     "execution_count": 20,
     "metadata": {},
     "output_type": "execute_result"
    }
   ],
   "source": [
    "class Humano: \n",
    "    def __init__(self, edad):\n",
    "        print ('soy nuevo objeto')\n",
    "        self.edad = edad\n",
    "    def hablar (self, mensaje):\n",
    "        print(mensaje)\n",
    "pedro = Humano(27) #instanciamos el objeto, aquí instancio dentro del parentesis la edad para cada objeto la edad, por ejemplo\n",
    "raul = Humano (32)#instanciamos el objeto\n",
    "\n",
    "pedro.hablar('hola soy pedro y tengo'), print(pedro.edad, 'años')\n",
    "raul.hablar('hola soy raul y tengo' ), print(raul.edad, 'años')\n",
    "\n"
   ]
  },
  {
   "cell_type": "code",
   "execution_count": 22,
   "metadata": {},
   "outputs": [
    {
     "name": "stdout",
     "output_type": "stream",
     "text": [
      "soy publico\n",
      "tengo nuevo valor\n"
     ]
    }
   ],
   "source": [
    "class Prueba(object):\n",
    "    def __init__(self):\n",
    "        self.__privado = \"soy privado\"\n",
    "        self.privado = \"soy publico\"\n",
    "\n",
    "    def __metodoPrivado(self):\n",
    "        print (\"soy privado\")\n",
    "    def metodoPublico(self):\n",
    "        print (\"soy publico\")\n",
    "    def getPrivado (self):\n",
    "        return self.__privado\n",
    "    #si quiero establecer un valor a un metodo privado\n",
    "    def setPrivado (self, valor):\n",
    "        self.__privado = valor \n",
    "        #self.__privado =  self.__privado = \"soy privado\" \n",
    "        #si quitamos el comentario de la linea anterior y dejamos sólo esa imprimirá \"soy privado\"\n",
    "obj = Prueba ()\n",
    "\n",
    "#print(obj.privado)\n",
    "#print(obj.publico)\n",
    "obj.metodoPublico()\n",
    "obj.setPrivado('tengo nuevo valor')\n",
    "print(obj.getPrivado())"
   ]
  },
  {
   "cell_type": "markdown",
   "metadata": {},
   "source": [
    "No reconoce el metodo privado porque es es privado, así que es correcto que marque un error.\n",
    "\n",
    "La inclusión de un método getPrivado() en la clase Prueba es una práctica común cuando se desea proporcionar una forma controlada y segura de acceder a un atributo privado, como __privado en tu caso.\n",
    "\n",
    "Cuando un atributo se designa como privado mediante el uso de doble guion bajo (__), se espera que no se acceda directamente desde fuera de la clase. En lugar de ello, se suelen proporcionar métodos de acceso, como un método get, para obtener el valor del atributo de manera segura."
   ]
  },
  {
   "cell_type": "markdown",
   "metadata": {},
   "source": [
    "# Herencias y herencias multiples"
   ]
  },
  {
   "cell_type": "code",
   "execution_count": 106,
   "metadata": {},
   "outputs": [
    {
     "name": "stdout",
     "output_type": "stream",
     "text": [
      "hola, soy Pedro tengo 27 años y soy de mex\n",
      "hola, soy Raul tengo 32 años y soy de esp\n"
     ]
    }
   ],
   "source": [
    "class Humano: \n",
    "    def __init__(self, edad, nacionalidad ):\n",
    "        self.edad = edad\n",
    "        self.nacionalidad = nacionalidad      \n",
    "    def hablar (self, mensaje):\n",
    "        print(f\"{mensaje} tengo {self.edad} años y soy de {self.nacionalidad}\")\n",
    "\n",
    "#instanciamos los atributos\n",
    "pedro = Humano(edad= 27, nacionalidad = 'mex') \n",
    "raul = Humano (edad= 32, nacionalidad = 'esp')\n",
    "#se llama al metodo\n",
    "pedro.hablar('hola, soy Pedro') \n",
    "raul.hablar('hola, soy Raul') \n"
   ]
  },
  {
   "cell_type": "markdown",
   "metadata": {},
   "source": [
    "Ya que lo tengo mejor ordenado voy a hacer herencias y herencias múltiples.\n",
    "Herencias: En este ejemplo pondre a que se dedican los objetos Humanos y en que trabajan "
   ]
  },
  {
   "cell_type": "code",
   "execution_count": 17,
   "metadata": {},
   "outputs": [
    {
     "name": "stdout",
     "output_type": "stream",
     "text": [
      "\n",
      "\n",
      " hola, soy Pedro tengo 27 años y soy de mex\n",
      " hola, soy Raul tengo 32 años y soy de esp\n",
      "Estudie en unam trabajo en el sector cimentaciones.\n",
      "Estudie en ipn trabajo en el sector rocas.\n",
      "Estoy en la chi tengo el puesto de canciller.\n",
      "Estoy en la col tengo el puesto de presidenta.\n",
      "  tengo 27 años y soy de mex\n"
     ]
    }
   ],
   "source": [
    "class Humano: \n",
    "    def __init__(self, edad, nacionalidad ):\n",
    "        self.edad = edad\n",
    "        self.nacionalidad = nacionalidad   \n",
    "        print()   \n",
    "    def hablar (self, mensaje):\n",
    "        print(f\" {mensaje} tengo {self.edad} años y soy de {self.nacionalidad}\")\n",
    "\n",
    "#instanciamos los atributos\n",
    "pedro_humano = Humano(edad= 27, nacionalidad = 'mex') \n",
    "raul_humano = Humano (edad= 32, nacionalidad = 'esp')\n",
    "#se llama al metodo\n",
    "pedro_humano.hablar('hola, soy Pedro') \n",
    "raul_humano.hablar('hola, soy Raul') \n",
    "\n",
    "class Ingenierias (Humano):\n",
    "    def __init__(self, universidad, sector):\n",
    "        self.universidad = universidad\n",
    "        self.sector =sector      \n",
    "    def trabajo (self, info):\n",
    "        print(f\"Estudie en {self.universidad} trabajo en el sector {self.sector}.\")\n",
    "pedro_profesional = Ingenierias (universidad= 'unam', sector='cimentaciones')\n",
    "juan_profesional = Ingenierias (universidad='ipn', sector='rocas')\n",
    "pedro_profesional.trabajo('')\n",
    "juan_profesional.trabajo('')\n",
    "\n",
    "\n",
    "class CienciasPoliticas (Humano):\n",
    "    def __init__(self, embajada, puesto):\n",
    "        self.embajada = embajada\n",
    "        self.puesto = puesto    \n",
    "    def actividad(self, ofi ):\n",
    "        print(f\"Estoy en la {self.embajada} tengo el puesto de {self.puesto}.\")\n",
    "raul_politico = CienciasPoliticas (embajada='chi', puesto='canciller')\n",
    "magali_politico = CienciasPoliticas (embajada = 'col', puesto='presidenta')\n",
    "raul_politico.actividad('')\n",
    "magali_politico.actividad('')\n",
    "\n",
    "pedro_humano.hablar('')\n"
   ]
  },
  {
   "cell_type": "markdown",
   "metadata": {},
   "source": [
    "Nota del chat GPT: Al crear una nueva instancia de la clase Ingenierias con el nombre pedro, se esta sobreescribiendo la instancia anterior de la clase Humano con el mismo nombre. Como resultado, la instancia pedro se convierte en un objeto de la clase Ingenierias y ya no tiene el método hablar de la clase Humano disponible. Para evitar este problema, podrías usar nombres diferentes para las instancias de cada clase, por ejemplo: \n",
    "\n",
    "pedro_humano =Humano (edad =27, nacionalidaa='mex')\n",
    "\n",
    "juan = Ingenierias (universidad = 'unam, sector ='cimentaciones')\n",
    "\n",
    "pedro_humano.hablar('hola,soy Pedro')\n",
    "\n",
    "juan.trabajo('')\n"
   ]
  },
  {
   "cell_type": "markdown",
   "metadata": {},
   "source": [
    "Nota del Chat gpt: al crear una nueva instancia de la clase Ingenierias con el nombre pedro, se está sobrescribiendo la instancia anterior de la clase Humano con el mismo nombre. Como resultado, la instancia pedro se convierte en un objeto de la clase Ingenierias y ya no tiene el método hablar de la clase Humano disponible. Para evitar este problema, podrías usar nombres diferentes para las instancias de cada clase, por ejemplo:\n",
    "\n",
    "pedro_humano = Humano(edad=27, nacionalidad='mex')\n",
    "juan = Ingenierias(universidad='unam', sector='cimentaciones')\n",
    "pedro_humano.hablar('hola, soy Pedro')\n",
    "juan.trabajo('')"
   ]
  },
  {
   "cell_type": "code",
   "execution_count": 57,
   "metadata": {},
   "outputs": [
    {
     "name": "stdout",
     "output_type": "stream",
     "text": [
      "\n",
      "\n",
      "hola, soy Pedro\n",
      "  tengo 27 años y soy de mex\n",
      "hola, soy raul\n",
      "  tengo 32 años y soy de esp\n",
      "Estudie en unam trabajo en el sector cimentaciones.\n",
      "Estudie en ipn trabajo en el sector rocas.\n",
      "Estoy en la embajada  de chi tengo el puesto de canciller.\n",
      "Estoy en la embajada  de col tengo el puesto de presidenta.\n",
      "para no perderme hola, soy Pedro\n",
      "  tengo 27 años y soy de mex\n",
      "Estudie en unam trabajo en el sector cimentaciones.\n",
      "hola, soy raul\n",
      "  tengo 32 años y soy de esp\n",
      "Estoy en la embajada  de chi tengo el puesto de canciller.\n",
      "Estudie en ipn trabajo en el sector rocas.\n",
      "Estoy en la embajada  de col tengo el puesto de presidenta.\n"
     ]
    }
   ],
   "source": [
    "class Humano: \n",
    "    def __init__(self, nombre, edad, nacionalidad ):\n",
    "        self.nombre = nombre\n",
    "        self.edad = edad\n",
    "        self.nacionalidad = nacionalidad   \n",
    "        print()   \n",
    "    def hablar (self, mensaje):\n",
    "        print(f\" {mensaje} tengo {self.edad} años y soy de {self.nacionalidad}\")\n",
    "\n",
    "#instanciamos los atributos\n",
    "pedro_humano = Humano( nombre ='hola, soy Pedro', edad= 27, nacionalidad = 'mex') \n",
    "raul_humano = Humano ( nombre ='hola, soy raul', edad= 32, nacionalidad = 'esp')\n",
    "#se llama al metodo\n",
    "print(pedro_humano.nombre)  , pedro_humano.hablar('')\n",
    "print(raul_humano.nombre) ,  raul_humano.hablar('') \n",
    "\n",
    "class Ingenierias (Humano):\n",
    "    def __init__(self, universidad, sector):\n",
    "        self.universidad = universidad\n",
    "        self.sector =sector      \n",
    "    def trabajo (self, info):\n",
    "        print(f\"Estudie en {self.universidad} trabajo en el sector {self.sector}.\")\n",
    "pedro_profesional = Ingenierias (universidad= 'unam', sector='cimentaciones')\n",
    "juan_profesional = Ingenierias (universidad='ipn', sector='rocas')\n",
    "pedro_profesional.trabajo('')\n",
    "juan_profesional.trabajo('')\n",
    "\n",
    "\n",
    "class CienciasPoliticas (Humano):\n",
    "    def __init__(self, embajada, puesto):\n",
    "        self.embajada = embajada\n",
    "        self.puesto = puesto    \n",
    "    def actividad(self, ofi ):\n",
    "        print(f\"Estoy en la embajada  de {self.embajada} tengo el puesto de {self.puesto}.\")\n",
    "raul_politico = CienciasPoliticas (embajada='chi', puesto='canciller')\n",
    "magali_politico = CienciasPoliticas (embajada = 'col', puesto='presidenta')\n",
    "raul_politico.actividad('')\n",
    "magali_politico.actividad('')\n",
    "\n",
    "print('para no perderme',pedro_humano.nombre), pedro_humano.hablar('') , pedro_profesional.trabajo('')\n",
    "\n",
    "print(raul_humano.nombre), raul_humano.hablar('') , raul_politico.actividad('')\n",
    "\n",
    "juan_profesional.trabajo('')\n",
    "magali_politico.actividad('')"
   ]
  },
  {
   "cell_type": "markdown",
   "metadata": {},
   "source": [
    "Cadenas y sus metodos\n",
    "una cadena también es un objeto, en esta sección anotaremos algunos comandos que son muy utiles al trabajar con cadenas. \n",
    "cadena.count(valor,inicio,fin)\n",
    "busca la letra u en la cadena y dice el numero de veces que la encuentra\n",
    "cadena.replace(valor, nuevo, repeticiones) reemplaza valores\n",
    "cadena.split(separador, maxsplit) rompe la cadena cuando encuentra lo que esta buscando maxsplit limita el número de veces que se rompe la cadena. \n",
    "cad.find(valor, inicio,fin) encuentra el valor en el rango determinado. regresa un entero con la ubicación de la primer ocurrencia. \n",
    "cadena.join(secuencia)\n",
    "\n",
    "\n"
   ]
  },
  {
   "cell_type": "code",
   "execution_count": 66,
   "metadata": {},
   "outputs": [
    {
     "data": {
      "text/plain": [
       "1"
      ]
     },
     "execution_count": 66,
     "metadata": {},
     "output_type": "execute_result"
    }
   ],
   "source": [
    "cad = \"hola mundo \"\n",
    "cad.count(\"u\",0,8)"
   ]
  },
  {
   "cell_type": "code",
   "execution_count": 61,
   "metadata": {},
   "outputs": [
    {
     "data": {
      "text/plain": [
       "'hxla mundo '"
      ]
     },
     "execution_count": 61,
     "metadata": {},
     "output_type": "execute_result"
    }
   ],
   "source": [
    "cad.replace(\"o\", \"x\", 1)"
   ]
  },
  {
   "cell_type": "code",
   "execution_count": 64,
   "metadata": {},
   "outputs": [
    {
     "data": {
      "text/plain": [
       "['h', 'la mundo ']"
      ]
     },
     "execution_count": 64,
     "metadata": {},
     "output_type": "execute_result"
    }
   ],
   "source": [
    "cad.split(\"o\", 1)"
   ]
  },
  {
   "cell_type": "code",
   "execution_count": 68,
   "metadata": {},
   "outputs": [
    {
     "data": {
      "text/plain": [
       "6"
      ]
     },
     "execution_count": 68,
     "metadata": {},
     "output_type": "execute_result"
    }
   ],
   "source": [
    "cad.find(\"u\", 0)"
   ]
  },
  {
   "cell_type": "code",
   "execution_count": 87,
   "metadata": {},
   "outputs": [
    {
     "data": {
      "text/plain": [
       "'h;o;l;a'"
      ]
     },
     "execution_count": 87,
     "metadata": {},
     "output_type": "execute_result"
    }
   ],
   "source": [
    "cadena=(\";\")\n",
    "secuencia = (\"h\"\"o\"\"l\"\"a\")\n",
    "cadena.join(secuencia)\n"
   ]
  },
  {
   "cell_type": "code",
   "execution_count": 88,
   "metadata": {},
   "outputs": [
    {
     "data": {
      "text/plain": [
       "';'"
      ]
     },
     "execution_count": 88,
     "metadata": {},
     "output_type": "execute_result"
    }
   ],
   "source": [
    "type(cadena)\n",
    "type(secuencia)\n",
    "\n",
    "cadena=(\"h\"\"o\"\"l\"\"a\")\n",
    "secuencia = (\";\")\n",
    "cadena.join(secuencia)"
   ]
  },
  {
   "cell_type": "markdown",
   "metadata": {},
   "source": [
    "Listas y sus Métodos. \n",
    "variable de búsqueda in lista \n",
    "lista.append(\"\") agrega elementos a la lista\n",
    "lista.insert(posición, elemento)\n",
    "lista.extend() transforma o cambia la lista a la que le estamos aplicando este metodo \n",
    "lista.pop()te saca el último elemento o el elemento que indiques dentro del parentesis\n",
    "lista.remove()elimina el valor buscado y para borrar todos esos valores for\n",
    "lista.reverse()\n"
   ]
  },
  {
   "cell_type": "code",
   "execution_count": 126,
   "metadata": {},
   "outputs": [
    {
     "name": "stdout",
     "output_type": "stream",
     "text": [
      "True\n"
     ]
    }
   ],
   "source": [
    "lista1=[1,2,3,4,5,6,7,8,9,\"uno\",\"dos\",\"tres\",\"cuatro\",\"cinco\"]\n",
    "valor_de_busqueda = \"uno\"\n",
    "print(valor_de_busqueda in lista1)"
   ]
  },
  {
   "cell_type": "code",
   "execution_count": 101,
   "metadata": {},
   "outputs": [
    {
     "name": "stdout",
     "output_type": "stream",
     "text": [
      "existe en la posición:\n",
      "9\n"
     ]
    }
   ],
   "source": [
    "if valor_de_busqueda in lista1 :\n",
    "    print(\"existe en la posición:\")\n",
    "    print (lista1.index(valor_de_busqueda))\n",
    "else:\n",
    "    print(\"No existe en la lista\")"
   ]
  },
  {
   "cell_type": "code",
   "execution_count": 127,
   "metadata": {},
   "outputs": [
    {
     "name": "stdout",
     "output_type": "stream",
     "text": [
      "[1, 2, 3, 4, 5, 6, 7, 8, 9, 'uno', 'dos', 'tres', 'cuatro', 'cinco', 'seis']\n"
     ]
    }
   ],
   "source": [
    "lista1.append(\"seis\")\n",
    "print(lista1)"
   ]
  },
  {
   "cell_type": "code",
   "execution_count": 128,
   "metadata": {},
   "outputs": [
    {
     "name": "stdout",
     "output_type": "stream",
     "text": [
      "[1, 2, 3, 4, 5, 6, 7, 8, 9, '10', 'uno', 'dos', 'tres', 'cuatro', 'cinco', 'seis']\n"
     ]
    }
   ],
   "source": [
    "lista1.insert(9, \"10\")\n",
    "print(lista1)"
   ]
  },
  {
   "cell_type": "code",
   "execution_count": 129,
   "metadata": {},
   "outputs": [
    {
     "name": "stdout",
     "output_type": "stream",
     "text": [
      "[1, 2, 3, 4, 5, 6, 7, 8, 9, '10', 'uno', 'dos', 'tres', 'cuatro', 'cinco', 'seis', 11, 12, 13, 14, 15]\n",
      "[1, 2, 3, 4, 5, 6, 7, 8, 9, '10', 'uno', 'dos', 'tres', 'cuatro', 'cinco', 'seis', 11, 12, 13, 14, 15, 'c', 'a', 'd', 'e', 'n', 'a', ' ', 'd', 'e', ' ', 'c', 'a', 'r', 'a', 'c', 't', 'e', 'r', 'e', 's']\n"
     ]
    }
   ],
   "source": [
    "it1=[11, 12, 13, 14, 15]\n",
    "it2=\"cadena de caracteres\"\n",
    "lista1.extend(it1)\n",
    "print(lista1)\n",
    "lista1.extend(it2)\n",
    "print(lista1)"
   ]
  },
  {
   "cell_type": "code",
   "execution_count": 130,
   "metadata": {},
   "outputs": [
    {
     "name": "stdout",
     "output_type": "stream",
     "text": [
      "[1, 2, 3, 4, 5, 6, 7, 8, 9, '10', 'uno', 'dos', 'tres', 'cuatro', 'cinco', 'seis', 11, 12, 13, 14, 15, 'c', 'a', 'd', 'e', 'n', 'a', ' ', 'd', 'e', ' ', 'c', 'a', 'r', 'a', 'c', 't', 'e', 'r', 'e']\n",
      "[1, 2, 3, 4, 5, 6, 7, 8, 9, '10', 'uno', 'tres', 'cuatro', 'cinco', 'seis', 11, 12, 13, 14, 15, 'c', 'a', 'd', 'e', 'n', 'a', ' ', 'd', 'e', ' ', 'c', 'a', 'r', 'a', 'c', 't', 'e', 'r', 'e']\n"
     ]
    }
   ],
   "source": [
    "lista1.pop()\n",
    "print(lista1)\n",
    "lista1.pop(11)\n",
    "print(lista1)"
   ]
  },
  {
   "cell_type": "code",
   "execution_count": 131,
   "metadata": {},
   "outputs": [
    {
     "name": "stdout",
     "output_type": "stream",
     "text": [
      "[1, 2, 3, 4, 5, 6, 7, 8, 9, 'uno', 'tres', 'cuatro', 'cinco', 'seis', 11, 12, 13, 14, 15, 'c', 'a', 'd', 'e', 'n', 'a', ' ', 'd', 'e', ' ', 'c', 'a', 'r', 'a', 'c', 't', 'e', 'r', 'e']\n",
      "[1, 2, 3, 4, 5, 6, 7, 8, 9, 'uno', 'cuatro', 'cinco', 'seis', 11, 12, 13, 14, 15, 'c', 'a', 'd', 'e', 'n', 'a', ' ', 'd', 'e', ' ', 'c', 'a', 'r', 'a', 'c', 't', 'e', 'r', 'e']\n"
     ]
    }
   ],
   "source": [
    "lista1.remove('10')\n",
    "print(lista1)\n",
    "lista1.remove('tres')\n",
    "print(lista1)"
   ]
  },
  {
   "cell_type": "code",
   "execution_count": 132,
   "metadata": {},
   "outputs": [
    {
     "name": "stdout",
     "output_type": "stream",
     "text": [
      "['e', 'r', 'e', 't', 'c', 'a', 'r', 'a', 'c', ' ', 'e', 'd', ' ', 'a', 'n', 'e', 'd', 'a', 'c', 15, 14, 13, 12, 11, 'seis', 'cinco', 'cuatro', 'uno', 9, 8, 7, 6, 5, 4, 3, 2, 1]\n"
     ]
    }
   ],
   "source": [
    "lista1.reverse()\n",
    "print(lista1)"
   ]
  },
  {
   "cell_type": "markdown",
   "metadata": {},
   "source": [
    "# Metodos de dicccionarios\n",
    "Resumen del chat GPT. \n",
    "keys(): Devuelve una lista de todas las claves del diccionario.\n",
    "\n",
    "values(): Devuelve una lista de todos los valores en el diccionario.\n",
    "\n",
    "items(): Devuelve una lista de tuplas, donde cada tupla contiene un par clave-valor.\n",
    "\n",
    "get(key, default): Devuelve el valor asociado a la clave especificada, o un valor predeterminado si la clave no está presente.\n",
    "\n",
    "pop(key, default): Elimina la clave especificada y devuelve su valor, o un valor predeterminado si la clave no está presente.\n",
    "\n",
    "update(iterable): Actualiza el diccionario con elementos de otro diccionario o de pares clave-valor en forma de iterable.\n",
    "\n",
    "clear(): Elimina todos los elementos del diccionario.\n",
    "\n",
    "copy(): Crea una copia superficial del diccionario.\n",
    "\n",
    "Estos son solo algunos de los métodos más comunes. Hay muchos otros métodos y técnicas que puedes usar según tus necesidades específicas."
   ]
  },
  {
   "cell_type": "code",
   "execution_count": 163,
   "metadata": {},
   "outputs": [
    {
     "name": "stdout",
     "output_type": "stream",
     "text": [
      "{'d1': [1, 2, 3, 4], 'd2': 78, 'd3': 'hola'}\n",
      "dict_keys(['d1', 'd2', 'd3'])\n",
      "dict_values([[1, 2, 3, 4], 78, 'hola'])\n",
      "dict_items([('d1', [1, 2, 3, 4]), ('d2', 78), ('d3', 'hola')])\n",
      "[1, 2, 3, 4]\n",
      "2\n",
      "{'a': 1, 'c': 3}\n",
      "soy diccionario1\n",
      "{'a': 1, 'b': 2}\n",
      "{'a': 1, 'b': 3, 'c': 4}\n"
     ]
    }
   ],
   "source": [
    "dic = {\"d1\":[1,2,3,4], \n",
    "    \"d2\": 78,\n",
    "    \"d3\": 'hola'\n",
    "}\n",
    "\n",
    "print(dic)\n",
    "type(dic)\n",
    "print(dic.keys())\n",
    "print(dic.values())\n",
    "print(dic.items())\n",
    "print(dic.get('d1'))\n",
    "\n",
    "diccionario11 = {\"a\": 1, \"b\": 2, \"c\": 3}\n",
    "valor1 = diccionario11.pop(\"b\")  # Elimina 'b' y devuelve 2\n",
    "print(valor1)\n",
    "print(diccionario11)\n",
    "\n",
    "print('soy diccionario1')\n",
    "diccionario1 = {\"a\": 1, \"b\": 2}\n",
    "print(diccionario1)\n",
    "diccionario2 = {\"b\": 3, \"c\": 4}\n",
    "diccionario1.update(diccionario2)\n",
    "print(diccionario1)  # {'a': 1, 'b': 3, 'c': 4}\n",
    "\n",
    "\n",
    "\n",
    "\n"
   ]
  },
  {
   "cell_type": "markdown",
   "metadata": {},
   "source": [
    "# Funciones de orden superior \n",
    "El objetivo es llamar una función dentro de otra Función. "
   ]
  },
  {
   "cell_type": "code",
   "execution_count": 30,
   "metadata": {},
   "outputs": [
    {
     "data": {
      "text/plain": [
       "24"
      ]
     },
     "execution_count": 30,
     "metadata": {},
     "output_type": "execute_result"
    }
   ],
   "source": [
    "def seleccion (operacion):\n",
    "    def suma(n,m):\n",
    "        return n+m\n",
    "    def multiplicacion (n,m):\n",
    "        return n*m \n",
    "    if operacion == \"suma\":\n",
    "        return suma\n",
    "    elif operacion == \"multi\":\n",
    "        return multiplicacion\n",
    "\n",
    "feleccion1 = seleccion(\"suma\")\n",
    "feleccion1(12,12)"
   ]
  },
  {
   "cell_type": "markdown",
   "metadata": {},
   "source": [
    "# Funciones\n",
    "map: aplica una función específica a cada elemento de un iterable y devolver un objeto iterable que produce los resultados.\n",
    "\n",
    "filter: La función de filtrado se aplica a cada elemento del iterable, y los elementos para los cuales la función devuelve True se incluyen en el resultado. Los elementos para los cuales la función devuelve False o None se excluyen.\n"
   ]
  },
  {
   "cell_type": "code",
   "execution_count": 35,
   "metadata": {},
   "outputs": [
    {
     "name": "stdout",
     "output_type": "stream",
     "text": [
      "[1, 2, 3, 4]\n",
      "(9, 8, 7, 6)\n",
      "[10, 10, 10, 10]\n"
     ]
    }
   ],
   "source": [
    "def operador (i,j):\n",
    "    return i+j\n",
    "\n",
    "l1 =[1,2,3,4]\n",
    "t1 = (9, 8, 7, 6)\n",
    "lresultado = list(map(operador, l1, t1))\n",
    "print (l1)\n",
    "print (t1)\n",
    "print(lresultado)"
   ]
  },
  {
   "cell_type": "markdown",
   "metadata": {},
   "source": [
    "Si la tupla o lo que sea es más corta pues aparecerá none y se en def le pongo un ciclo para que rellene el valor, se puede hacer. \n"
   ]
  },
  {
   "cell_type": "code",
   "execution_count": 36,
   "metadata": {},
   "outputs": [
    {
     "name": "stdout",
     "output_type": "stream",
     "text": [
      "[2, 4, 6, 8, 10]\n"
     ]
    }
   ],
   "source": [
    "def es_par(numero):\n",
    "    return numero % 2 == 0\n",
    "\n",
    "numeros = [1, 2, 3, 4, 5, 6, 7, 8, 9, 10]\n",
    "\n",
    "# Filtrar los números pares de la lista utilizando filter\n",
    "numeros_pares = list(filter(es_par, numeros))\n",
    "\n",
    "print(numeros_pares)"
   ]
  },
  {
   "cell_type": "markdown",
   "metadata": {},
   "source": [
    "% el operador de módulo (%) para encontrar múltiplos de cualquier número."
   ]
  },
  {
   "cell_type": "code",
   "execution_count": 38,
   "metadata": {},
   "outputs": [
    {
     "name": "stdout",
     "output_type": "stream",
     "text": [
      "6\n"
     ]
    }
   ],
   "source": [
    "from functools import reduce\n",
    "t4=(1, 2, 3)\n",
    "def sumatoria (aa,bb):\n",
    "    return aa+bb \n",
    "\n",
    "cc=reduce(sumatoria, t4)\n",
    "print(cc)"
   ]
  },
  {
   "cell_type": "markdown",
   "metadata": {},
   "source": [
    "En Python 3, reduce se movió al módulo functools, por lo que necesitas importarlo antes de usarlo."
   ]
  },
  {
   "cell_type": "markdown",
   "metadata": {},
   "source": [
    "\n",
    "Las funciones lambda en Python son funciones anónimas y pequeñas que se definen con la siguiente sintaxis:\n",
    "\n",
    "lambda argumentos: expresion"
   ]
  },
  {
   "cell_type": "code",
   "execution_count": 45,
   "metadata": {},
   "outputs": [
    {
     "name": "stdout",
     "output_type": "stream",
     "text": [
      "8\n"
     ]
    }
   ],
   "source": [
    "suma3 = lambda x, y: x + y\n",
    "print(suma3(2, 6))"
   ]
  },
  {
   "cell_type": "markdown",
   "metadata": {},
   "source": [
    "# Manejo de listas\n"
   ]
  },
  {
   "cell_type": "code",
   "execution_count": 48,
   "metadata": {},
   "outputs": [
    {
     "name": "stdout",
     "output_type": "stream",
     "text": [
      "[0, 2, 4, 6, 8, 10, 12, 14, 16, 18, 20]\n"
     ]
    }
   ],
   "source": [
    "l6=[num for num in range(0, 21, 2)]\n",
    "print (l6)"
   ]
  },
  {
   "cell_type": "code",
   "execution_count": 52,
   "metadata": {},
   "outputs": [
    {
     "name": "stdout",
     "output_type": "stream",
     "text": [
      "0\n",
      "2\n",
      "4\n",
      "6\n",
      "8\n"
     ]
    }
   ],
   "source": [
    "def generador_pares(n):\n",
    "    i = 0\n",
    "    while i < n:\n",
    "        yield i * 2\n",
    "        i += 1\n",
    "\n",
    "# Uso del generador\n",
    "n = 5\n",
    "for numero_par in generador_pares(n):\n",
    "    print(numero_par)"
   ]
  }
 ],
 "metadata": {
  "kernelspec": {
   "display_name": "Python 3",
   "language": "python",
   "name": "python3"
  },
  "language_info": {
   "codemirror_mode": {
    "name": "ipython",
    "version": 3
   },
   "file_extension": ".py",
   "mimetype": "text/x-python",
   "name": "python",
   "nbconvert_exporter": "python",
   "pygments_lexer": "ipython3",
   "version": "3.12.2"
  }
 },
 "nbformat": 4,
 "nbformat_minor": 2
}
